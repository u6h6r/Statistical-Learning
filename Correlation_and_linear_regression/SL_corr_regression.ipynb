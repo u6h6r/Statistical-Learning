{
  "nbformat": 4,
  "nbformat_minor": 0,
  "metadata": {
    "colab": {
      "name": "SL_1",
      "provenance": [],
      "collapsed_sections": []
    },
    "kernelspec": {
      "name": "python3",
      "display_name": "Python 3.6.10 64-bit ('ds_env': conda)",
      "metadata": {
        "interpreter": {
          "hash": "be84c2bd2c6dd7fa4fc31bd7535c901a689e88b0afc845e52cdaf1d44f616a00"
        }
      }
    }
  },
  "cells": [
    {
      "cell_type": "code",
      "metadata": {
        "id": "5Jrx24-Cuyws",
        "colab": {
          "base_uri": "https://localhost:8080/"
        },
        "outputId": "5950ddd7-3ccb-4448-e499-7c24aba1670e"
      },
      "source": [
        "#linear algebra\n",
        "import numpy as np \n",
        "import math\n",
        "\n",
        "#data tools\n",
        "import pandas as pd\n",
        "from scipy import stats\n",
        "import statsmodels.api as sm\n",
        "import statsmodels.formula.api as smf \n",
        "\n",
        "#plots\n",
        "import seaborn as sns\n",
        "import matplotlib.pyplot as plt\n",
        "import matplotlib.style as style\n",
        "style.use('seaborn')"
      ],
      "execution_count": 1,
      "outputs": []
    },
    {
      "cell_type": "code",
      "metadata": {
        "id": "wNmnGDfcvwaf"
      },
      "source": [
        "data = dataset=pd.read_csv(\"data/part1_set02.txt\",sep=\" \", header=None)\n",
        "data.columns = ['rent','HPI']\n",
        "data = data.drop(0)\n",
        "data.reset_index(drop=True)\n",
        "data[[\"rent\", \"HPI\"]] = data[[\"rent\", \"HPI\"]].apply(pd.to_numeric)"
      ],
      "execution_count": 2,
      "outputs": []
    },
    {
      "cell_type": "markdown",
      "metadata": {
        "id": "XNzSU7XUzJ6q"
      },
      "source": [
        "\n",
        "## **1. Verify distribution of sample**\n",
        "\n",
        "Perform Shapiro-Wilk test to check if data is normally distributed  \n",
        "**Null hypothesis**: Data is normally distributed   \n",
        "**Alternative hypothesis**: Data is not normally distributed    \n",
        "\n"
      ]
    },
    {
      "cell_type": "code",
      "metadata": {
        "id": "kTiGZODN7vgR"
      },
      "source": [
        "rent = data['rent']\n",
        "hpi = data['HPI']"
      ],
      "execution_count": 3,
      "outputs": []
    },
    {
      "cell_type": "code",
      "metadata": {
        "colab": {
          "base_uri": "https://localhost:8080/"
        },
        "id": "Nr-Ilj8_x4Oe",
        "outputId": "51db3707-a10e-4c9a-d6d3-fdc269553bbe"
      },
      "source": [
        "stat, p_val = stats.shapiro(rent)\n",
        "stat, p_val"
      ],
      "execution_count": 4,
      "outputs": [
        {
          "output_type": "execute_result",
          "data": {
            "text/plain": [
              "(0.9345635771751404, 0.06498558819293976)"
            ]
          },
          "metadata": {
            "tags": []
          },
          "execution_count": 4
        }
      ]
    },
    {
      "cell_type": "markdown",
      "metadata": {
        "id": "h64B3vq_0_2I"
      },
      "source": [
        "### **Rent**    \n",
        "According to table https://www.real-statistics.com/statistics-tables/shapiro-wilk-table/    \n",
        "**n**= 30 for **p**= 0.05 **W**= 0.927   \n",
        "Given:  \n",
        "p_val (0.06498558819293976) > alfa (0.05)   \n",
        "W_test (0.9345635771751404) > W (0.927)  \n",
        "**We fail to reject null hypothesis We can assume that data is normally distributed**\n"
      ]
    },
    {
      "cell_type": "code",
      "metadata": {
        "colab": {
          "base_uri": "https://localhost:8080/"
        },
        "id": "sKexv2o31eE9",
        "outputId": "ffdd95d7-237b-42dc-a311-f40016da534e"
      },
      "source": [
        "stat, p_val = stats.shapiro(hpi)\n",
        "stat, p_val"
      ],
      "execution_count": 5,
      "outputs": [
        {
          "output_type": "execute_result",
          "data": {
            "text/plain": [
              "(0.9355310797691345, 0.06898201256990433)"
            ]
          },
          "metadata": {
            "tags": []
          },
          "execution_count": 5
        }
      ]
    },
    {
      "cell_type": "markdown",
      "metadata": {
        "id": "gcT1srxk9KUN"
      },
      "source": [
        "## **HPI**\n",
        "According to table https://www.real-statistics.com/statistics-tables/shapiro-wilk-table/    \n",
        "**n** = 30 for **p** = 0.05 **W** = 0.927   \n",
        "Given:  \n",
        "pval (0.06898201256990433) > alfa (0.05)    \n",
        "W_test (0.9355310797691345) > W (0.927)    \n",
        "**We fail to reject null hypothesis We can assume that data is normally distributed**   "
      ]
    },
    {
      "cell_type": "markdown",
      "metadata": {
        "id": "vV_tn7ftA9VZ"
      },
      "source": [
        "## **2. Scatter plot**\n",
        "\n"
      ]
    },
    {
      "cell_type": "code",
      "metadata": {
        "colab": {
          "base_uri": "https://localhost:8080/",
          "height": 497
        },
        "id": "I7oPaVqp9xZA",
        "outputId": "d0820d13-9365-48a5-b063-690e2f895d5a"
      },
      "source": [
        "plt.figure(figsize=(8,8))\n",
        "plt.scatter(x=rent, y=hpi, )\n",
        "plt.xlabel('Independet varirable Rent')\n",
        "plt.ylabel('Dependent variable HPI')\n",
        "plt.show()"
      ],
      "execution_count": 6,
      "outputs": [
        {
          "output_type": "display_data",
          "data": {
            "image/png": "[encoded data removed]",
            "text/plain": [
              "<Figure size 576x576 with 1 Axes>"
            ]
          },
          "metadata": {
            "tags": [],
            "needs_background": "light"
          }
        }
      ]
    },
    {
      "cell_type": "markdown",
      "metadata": {
        "id": "1Nkfpn8nBaYr"
      },
      "source": [
        "Scatter plot shows positive linear correlation between values   \n",
        "Looking at the plot we could also observe probably existing outliers"
      ]
    },
    {
      "cell_type": "markdown",
      "metadata": {
        "id": "nnAJd3dmBK3P"
      },
      "source": [
        "## **3. Correlation**"
      ]
    },
    {
      "cell_type": "code",
      "metadata": {
        "colab": {
          "base_uri": "https://localhost:8080/",
          "height": 112
        },
        "id": "GQmWLvQ1AuUi",
        "outputId": "dcc35bc1-c079-404c-dc45-941863cc5fd0"
      },
      "source": [
        "data.corr(method='pearson')"
      ],
      "execution_count": 7,
      "outputs": [
        {
          "output_type": "execute_result",
          "data": {
            "text/html": [
              "<div>\n",
              "<style scoped>\n",
              "    .dataframe tbody tr th:only-of-type {\n",
              "        vertical-align: middle;\n",
              "    }\n",
              "\n",
              "    .dataframe tbody tr th {\n",
              "        vertical-align: top;\n",
              "    }\n",
              "\n",
              "    .dataframe thead th {\n",
              "        text-align: right;\n",
              "    }\n",
              "</style>\n",
              "<table border=\"1\" class=\"dataframe\">\n",
              "  <thead>\n",
              "    <tr style=\"text-align: right;\">\n",
              "      <th></th>\n",
              "      <th>rent</th>\n",
              "      <th>HPI</th>\n",
              "    </tr>\n",
              "  </thead>\n",
              "  <tbody>\n",
              "    <tr>\n",
              "      <th>rent</th>\n",
              "      <td>1.00000</td>\n",
              "      <td>0.72991</td>\n",
              "    </tr>\n",
              "    <tr>\n",
              "      <th>HPI</th>\n",
              "      <td>0.72991</td>\n",
              "      <td>1.00000</td>\n",
              "    </tr>\n",
              "  </tbody>\n",
              "</table>\n",
              "</div>"
            ],
            "text/plain": [
              "         rent      HPI\n",
              "rent  1.00000  0.72991\n",
              "HPI   0.72991  1.00000"
            ]
          },
          "metadata": {
            "tags": []
          },
          "execution_count": 7
        }
      ]
    },
    {
      "cell_type": "code",
      "metadata": {
        "colab": {
          "base_uri": "https://localhost:8080/",
          "height": 112
        },
        "id": "0YixEPk-Ayvm",
        "outputId": "6f2dffa8-285c-4cde-e792-d98c480501e8"
      },
      "source": [
        "data.corr(method='spearman')"
      ],
      "execution_count": 8,
      "outputs": [
        {
          "output_type": "execute_result",
          "data": {
            "text/html": [
              "<div>\n",
              "<style scoped>\n",
              "    .dataframe tbody tr th:only-of-type {\n",
              "        vertical-align: middle;\n",
              "    }\n",
              "\n",
              "    .dataframe tbody tr th {\n",
              "        vertical-align: top;\n",
              "    }\n",
              "\n",
              "    .dataframe thead th {\n",
              "        text-align: right;\n",
              "    }\n",
              "</style>\n",
              "<table border=\"1\" class=\"dataframe\">\n",
              "  <thead>\n",
              "    <tr style=\"text-align: right;\">\n",
              "      <th></th>\n",
              "      <th>rent</th>\n",
              "      <th>HPI</th>\n",
              "    </tr>\n",
              "  </thead>\n",
              "  <tbody>\n",
              "    <tr>\n",
              "      <th>rent</th>\n",
              "      <td>1.000000</td>\n",
              "      <td>0.812327</td>\n",
              "    </tr>\n",
              "    <tr>\n",
              "      <th>HPI</th>\n",
              "      <td>0.812327</td>\n",
              "      <td>1.000000</td>\n",
              "    </tr>\n",
              "  </tbody>\n",
              "</table>\n",
              "</div>"
            ],
            "text/plain": [
              "          rent       HPI\n",
              "rent  1.000000  0.812327\n",
              "HPI   0.812327  1.000000"
            ]
          },
          "metadata": {
            "tags": []
          },
          "execution_count": 8
        }
      ]
    },
    {
      "cell_type": "markdown",
      "metadata": {
        "id": "wFO7Ou43C45V"
      },
      "source": [
        "**Testing for correlation coefficient**     \n",
        "As from previous test on values we did assumed that our data    \n",
        "did came from normal distribution, so we are able to    \n",
        "calculate pearson correlation coefficients for testing non-correlation  \n",
        "\n",
        "**Null hypothesis**: p = 0 (two variables are NOT correlated)   \n",
        "**Alternative hypothesis**: p != 0 (two variables are correlated)"
      ]
    },
    {
      "cell_type": "code",
      "metadata": {
        "colab": {
          "base_uri": "https://localhost:8080/"
        },
        "id": "nELSIXLJF8V-",
        "outputId": "c5ae1f4c-a18e-4aa9-b7d9-8b7800884f63"
      },
      "source": [
        "corr, p_val = stats.pearsonr(rent, hpi)\n",
        "corr, p_val"
      ],
      "execution_count": 9,
      "outputs": [
        {
          "output_type": "execute_result",
          "data": {
            "text/plain": [
              "(0.7299101363368404, 4.70685361950623e-06)"
            ]
          },
          "metadata": {
            "tags": []
          },
          "execution_count": 9
        }
      ]
    },
    {
      "cell_type": "code",
      "metadata": {
        "id": "AzOzz5MKHVXa"
      },
      "source": [
        "def ttest(r,n):\n",
        "  tval = r * math.sqrt((n-2)/(1-r**2))\n",
        "  return tval"
      ],
      "execution_count": 10,
      "outputs": []
    },
    {
      "cell_type": "code",
      "metadata": {
        "colab": {
          "base_uri": "https://localhost:8080/"
        },
        "id": "KtKtN0Z9Im5v",
        "outputId": "202c185b-4d35-4e03-d9fd-96b67d9534b1"
      },
      "source": [
        "ttest(0.7299101363368404, 30)"
      ],
      "execution_count": 11,
      "outputs": [
        {
          "output_type": "execute_result",
          "data": {
            "text/plain": [
              "5.650442969841911"
            ]
          },
          "metadata": {
            "tags": []
          },
          "execution_count": 11
        }
      ]
    },
    {
      "cell_type": "markdown",
      "metadata": {
        "id": "8ba6bY9_Krkq"
      },
      "source": [
        "**Pearson Correlation testing**     \n",
        "t_statistics for **n** = 30, **alpha** = 0.05\n",
        "**t** = 2.042   \n",
        "**t_test** (5.650442969841911) > 2.042      \n",
        "**p_val** (4.70685361950623e-06) < 0.05     \n",
        "\n",
        "\n",
        "t value did exceed the critical value for alpha (0.05), we can reject   \n",
        "the null hypothesis and accept the alternative hypothesis.  \n",
        "Also according to the p_val we can reject the null hypothesis and assume that two variables are correlated. \n"
      ]
    },
    {
      "cell_type": "code",
      "metadata": {
        "colab": {
          "base_uri": "https://localhost:8080/"
        },
        "id": "Vb4QE6q2O4cX",
        "outputId": "93800cd8-45ce-40f1-d2de-291d5aa5b4fb"
      },
      "source": [
        "stats.spearmanr(rent, hpi)"
      ],
      "execution_count": 12,
      "outputs": [
        {
          "output_type": "execute_result",
          "data": {
            "text/plain": [
              "SpearmanrResult(correlation=0.8123268723002774, pvalue=5.017749306985238e-08)"
            ]
          },
          "metadata": {
            "tags": []
          },
          "execution_count": 12
        }
      ]
    },
    {
      "cell_type": "code",
      "metadata": {
        "colab": {
          "base_uri": "https://localhost:8080/"
        },
        "id": "G1lJiZ5RNzyn",
        "outputId": "5071a01f-b78b-44fe-c0b6-c97f66e95adc"
      },
      "source": [
        "ttest(0.812327, 30)"
      ],
      "execution_count": 13,
      "outputs": [
        {
          "output_type": "execute_result",
          "data": {
            "text/plain": [
              "7.37039435752581"
            ]
          },
          "metadata": {
            "tags": []
          },
          "execution_count": 13
        }
      ]
    },
    {
      "cell_type": "markdown",
      "metadata": {
        "id": "ukYJ8W_TOdsP"
      },
      "source": [
        "**Spearman rank correlation testing**   \n",
        "t statistics for **n** = 30, **alpha** = 0.05 (for n > 20 it can be described by the Student's t distribution with n-2 degrees of freedom)  \n",
        "**t** = 4.303   \n",
        "**t_test** (7.37039435752581) > 4.303\n",
        "**p_val** (5.017749306985238e-08) < 0.05    \n",
        "t value did exceed the critical value for alpha (0.05), we can reject the null      \n",
        "hypothesis and accept the alternative hypothesis and assume that two variables are correlated.      \n",
        "Also according to the p_val we can reject the null hypothesis.\n"
      ]
    },
    {
      "cell_type": "markdown",
      "metadata": {
        "id": "xljJMk0YPu0g"
      },
      "source": [
        "## **4.Comment on scatter plot and correlation coeffeicients**\n",
        "According to the scatter plot we can see that there is positive correlation. It looks like there could be some  outliers as well. When calculating pearson correlation the result gives r = 0.7299 which can be described as large  positive correlation. Calculating spearman correlation gives r = 0.8123.       \n",
        "Pearson correlation focuses on linear dependency between values and our calculations show large positive correlation.    Spearman correlation assesses monotonic relationship. Given the result of spearman correlation it's large so we    can say that observations have a similar rank. As a final conclusion it means, that when one variable increases, the other one increases as well, but the amount is not consistent  \n"
      ]
    },
    {
      "cell_type": "markdown",
      "metadata": {
        "id": "pTmydz3EfnG9"
      },
      "source": [
        "## **5. Linear regression** "
      ]
    },
    {
      "cell_type": "code",
      "metadata": {
        "colab": {
          "base_uri": "https://localhost:8080/"
        },
        "id": "i0dtHzUoltNE",
        "outputId": "b11d8e81-769b-4403-c761-2d1b0dc4051c"
      },
      "source": [
        "reg1 = smf.ols('hpi ~  rent', data=data).fit()\n",
        "print (reg1.summary())"
      ],
      "execution_count": 14,
      "outputs": [
        {
          "output_type": "stream",
          "text": [
            "                            OLS Regression Results                            \n",
            "==============================================================================\n",
            "Dep. Variable:                    hpi   R-squared:                       0.533\n",
            "Model:                            OLS   Adj. R-squared:                  0.516\n",
            "Method:                 Least Squares   F-statistic:                     31.93\n",
            "Date:                Mon, 23 Nov 2020   Prob (F-statistic):           4.71e-06\n",
            "Time:                        12:20:18   Log-Likelihood:                -81.197\n",
            "No. Observations:                  30   AIC:                             166.4\n",
            "Df Residuals:                      28   BIC:                             169.2\n",
            "Df Model:                           1                                         \n",
            "Covariance Type:            nonrobust                                         \n",
            "==============================================================================\n",
            "                 coef    std err          t      P>|t|      [0.025      0.975]\n",
            "------------------------------------------------------------------------------\n",
            "Intercept      7.1257      3.508      2.031      0.052      -0.060      14.312\n",
            "rent           0.6531      0.116      5.650      0.000       0.416       0.890\n",
            "==============================================================================\n",
            "Omnibus:                        4.256   Durbin-Watson:                   2.078\n",
            "Prob(Omnibus):                  0.119   Jarque-Bera (JB):                2.768\n",
            "Skew:                           0.478   Prob(JB):                        0.251\n",
            "Kurtosis:                       4.140   Cond. No.                         156.\n",
            "==============================================================================\n",
            "\n",
            "Warnings:\n",
            "[1] Standard Errors assume that the covariance matrix of the errors is correctly specified.\n"
          ],
          "name": "stdout"
        }
      ]
    },
    {
      "cell_type": "markdown",
      "metadata": {
        "id": "-7nDpl4OnD3e"
      },
      "source": []
    },
    {
      "cell_type": "markdown",
      "metadata": {
        "id": "j8C_blmLpkR2"
      },
      "source": [
        "**According to model summary**: \n",
        "\n",
        "Coefficients for intercept: 7.1257, rent: 0.6531    \n",
        "It means that hpi increases by about 0.6531 with each one unit of increase of rent  \n",
        "\n",
        "**Testing beta coefficients**   \n",
        "**Null hypothesis**: Beta1 = Beta1.0    \n",
        "**Alternative hypothesis**: Beta1 != Beta1.0    \n",
        "**t**: 5.650 **p_val**: 0.000 **alpha**: 0.05   \n",
        "p_val < alpha   \n",
        "Given these results we reject the null hypothesis and we can assume     \n",
        "that the regression line differs significantly from zero.   \n",
        "We conclude that there is a significant relationship between the independent and dependent variable\n",
        "\n",
        "**F-test**  \n",
        "**Null hypothesis**: Beta0 = Beta1 = 0  \n",
        "**Alternative hypothesis**: Beta0 != 0 or Beta1 != 0    \n",
        "\n",
        "**alpha**: 0.05     \n",
        "**F-statistics**: 31.93     \n",
        "**p_val**: 4.71e-06     \n",
        "p_val < alpha       \n",
        "Given this we can reject the null hypothesis and assume that our model fits data better than the intercept-only model"
      ]
    },
    {
      "cell_type": "markdown",
      "metadata": {
        "id": "EeUczIGY7ww8"
      },
      "source": [
        "## **6. 95% confidence interval**"
      ]
    },
    {
      "cell_type": "code",
      "metadata": {
        "id": "WDZ3a2JVsPB7"
      },
      "source": [
        "y_pred = data['rent']\n",
        "y_pred = sm.add_constant(y_pred)"
      ],
      "execution_count": 15,
      "outputs": []
    },
    {
      "cell_type": "code",
      "metadata": {
        "id": "E6Z4N6o00VcV"
      },
      "source": [
        "predictions = reg1.get_prediction(y_pred)\n",
        "results = predictions.summary_frame(alpha=0.05)"
      ],
      "execution_count": 16,
      "outputs": []
    },
    {
      "cell_type": "code",
      "metadata": {
        "id": "MDanw3ym9PJc"
      },
      "source": [
        "conf_int = predictions.conf_int()"
      ],
      "execution_count": 17,
      "outputs": []
    },
    {
      "cell_type": "code",
      "metadata": {
        "id": "SNe2Nn1HjVhG"
      },
      "source": [
        "up = np.poly1d(np.polyfit(rent, conf_int[:,1], 4))(np.unique(rent))\n",
        "down = np.poly1d(np.polyfit(rent, conf_int[:,0], 4))(np.unique(rent))"
      ],
      "execution_count": 18,
      "outputs": []
    },
    {
      "cell_type": "code",
      "metadata": {
        "colab": {
          "base_uri": "https://localhost:8080/",
          "height": 483
        },
        "id": "D8rM4d_JhUI5",
        "outputId": "948daeb5-01d0-4336-9ced-578c838aa251"
      },
      "source": [
        "fig, ax = plt.subplots(figsize=(10,8))\n",
        "ax.plot(rent, hpi, 'o', label=\"data\")\n",
        "ax.plot(rent, reg1.fittedvalues, 'b-', label=\"Linear regression line\")\n",
        "ax.plot(np.unique(rent), np.poly1d(np.polyfit(rent, conf_int[:,1], 4))(np.unique(rent)), 'r')\n",
        "ax.plot(np.unique(rent), np.poly1d(np.polyfit(rent, conf_int[:,0], 4))(np.unique(rent)), 'r')\n",
        "ax.fill_between(np.unique(rent), up, down, color='grey',alpha=0.2, label=\"Confidence interval 95%\")\n",
        "ax.legend(loc='best');"
      ],
      "execution_count": 19,
      "outputs": [
        {
          "output_type": "display_data",
          "data": {
            "image/png": "[encoded data removed]",
            "text/plain": [
              "<Figure size 720x576 with 1 Axes>"
            ]
          },
          "metadata": {
            "tags": [],
            "needs_background": "light"
          }
        }
      ]
    },
    {
      "cell_type": "markdown",
      "metadata": {
        "id": "7-j5CXIn069n"
      },
      "source": [
        "We can clearly see that there are some outliers and influence points which are not inside the 95% confidence interval and are affecting our model. It will be worth investigating the residual chart to get more valuable information."
      ]
    },
    {
      "cell_type": "markdown",
      "metadata": {
        "id": "XcEmrlSZ8DKl"
      },
      "source": [
        "## **7. Coefficient of determination**"
      ]
    },
    {
      "cell_type": "code",
      "metadata": {
        "colab": {
          "base_uri": "https://localhost:8080/"
        },
        "id": "6rKU0gn-8SJ3",
        "outputId": "becedc4c-683d-432c-bf83-45e448b1f97c"
      },
      "source": [
        "reg1.rsquared_adj"
      ],
      "execution_count": 20,
      "outputs": [
        {
          "output_type": "execute_result",
          "data": {
            "text/plain": [
              "0.5160819788103812"
            ]
          },
          "metadata": {
            "tags": []
          },
          "execution_count": 20
        }
      ]
    },
    {
      "cell_type": "markdown",
      "metadata": {
        "id": "L_YVvAF68MKY"
      },
      "source": [
        "Degree to which linear relationship between independent and     \n",
        "dependent variable explains the variability of the  scatter plot equals: 0.516      \n",
        "We can conclude that around 52% of our data fit the regression model"
      ]
    },
    {
      "cell_type": "markdown",
      "metadata": {
        "id": "axxBHep08IOc"
      },
      "source": [
        "## **8. Residual chart**"
      ]
    },
    {
      "cell_type": "code",
      "metadata": {
        "colab": {
          "base_uri": "https://localhost:8080/",
          "height": 585
        },
        "id": "hgxn6IXVZYhp",
        "outputId": "08578c1f-7c61-4c84-b676-84325d04fc31"
      },
      "source": [
        "fig = plt.figure(figsize=(12,8))\n",
        "fig = sm.graphics.plot_regress_exog(reg1, 'rent', fig=fig) "
      ],
      "execution_count": 21,
      "outputs": [
        {
          "output_type": "display_data",
          "data": {
            "image/png": "[encoded data removed]",
            "text/plain": [
              "<Figure size 864x576 with 4 Axes>"
            ]
          },
          "metadata": {
            "tags": [],
            "needs_background": "light"
          }
        }
      ]
    },
    {
      "cell_type": "markdown",
      "metadata": {
        "id": "z18MMGSa2XuR"
      },
      "source": [
        "\n",
        "By looking at the residual chart we can see that there's no obvious pattern, but it forms a \"fun-like shape\", as    further the regression line, there are occuring points with bigger errors than at the beginning. Also we can clearly    see points which can be marked as outliers and one point which is much further from other and it can be classified  as an influence variable."
      ]
    },
    {
      "cell_type": "markdown",
      "metadata": {
        "id": "Y7AGIHru1LRi"
      },
      "source": [
        "## **9. Conclusions**\n",
        "\n",
        "As an conclusion we can state that variable **rent** explain/affect variable **hpi (House Price Index)** in some ways. If we are hoping for good results of our model we should consider removing outliers and influence variables. According to obtained coefficient of determination we could conclude that probably there is more variables/data which also describe our target variable. Extending our dataset, by adding other features could improve our regression model."
      ]
    }
  ]
}